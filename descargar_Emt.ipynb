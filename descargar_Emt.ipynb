{
 "cells": [
  {
   "cell_type": "code",
   "execution_count": 7,
   "metadata": {},
   "outputs": [],
   "source": [
    "# Carles Payà Vidal"
   ]
  },
  {
   "cell_type": "code",
   "execution_count": 1,
   "metadata": {},
   "outputs": [],
   "source": [
    "# librerias\n",
    "import pandas as pd\n",
    "import geopandas as gpd\n",
    "import requests\n",
    "from bs4 import BeautifulSoup\n",
    "import schedule\n",
    "import time\n",
    "from datetime import datetime"
   ]
  },
  {
   "cell_type": "code",
   "execution_count": 2,
   "metadata": {},
   "outputs": [
    {
     "name": "stdout",
     "output_type": "stream",
     "text": [
      "Archivo CSV guardado exitosamente\n"
     ]
    },
    {
     "ename": "KeyboardInterrupt",
     "evalue": "",
     "output_type": "error",
     "traceback": [
      "\u001b[1;31m---------------------------------------------------------------------------\u001b[0m",
      "\u001b[1;31mKeyboardInterrupt\u001b[0m                         Traceback (most recent call last)",
      "Cell \u001b[1;32mIn[2], line 44\u001b[0m\n\u001b[0;32m     42\u001b[0m \u001b[38;5;28;01mwhile\u001b[39;00m \u001b[38;5;28;01mTrue\u001b[39;00m:\n\u001b[0;32m     43\u001b[0m     schedule\u001b[38;5;241m.\u001b[39mrun_pending()\n\u001b[1;32m---> 44\u001b[0m     \u001b[43mtime\u001b[49m\u001b[38;5;241;43m.\u001b[39;49m\u001b[43msleep\u001b[49m\u001b[43m(\u001b[49m\u001b[38;5;241;43m1\u001b[39;49m\u001b[43m)\u001b[49m\n",
      "\u001b[1;31mKeyboardInterrupt\u001b[0m: "
     ]
    }
   ],
   "source": [
    "# Funcion para descargar los datos de la EMT y extraer las próximas paradas de cada estación\n",
    "# Ejecutar primero que el fichero de R hasta que se guarde el fichero emt_data_actual.csv y se siga ejecutando en segundo plano\n",
    "def descargar_datos_emt():\n",
    "    url = \"https://valencia.opendatasoft.com/api/explore/v2.1/catalog/datasets/emt/exports/csv?lang=es&timezone=Europe%2FBerlin&use_labels=true&delimiter=%3B\"\n",
    "    dest_file = \"datos/emt_data.csv\"\n",
    "    response = requests.get(url)\n",
    "    with open(dest_file, 'wb') as f:\n",
    "        f.write(response.content)\n",
    "    emt_data = gpd.read_file(dest_file, encoding='utf-8', delimiter=';')\n",
    "    \n",
    "    emt_data['latitud'] = emt_data['geo_point_2d'].apply(lambda x: float(x.split(',')[0]))\n",
    "    emt_data['longitud'] = emt_data['geo_point_2d'].apply(lambda x: float(x.split(',')[1]))\n",
    "    emt_data = gpd.GeoDataFrame(emt_data, geometry=gpd.points_from_xy(emt_data.longitud, emt_data.latitud), crs=4326)\n",
    "    \n",
    "    emt_data = emt_data.rename(columns={'Pròximes Arribades / Proximas Llegadas':'Proximas_llegadas'})\n",
    "    # Añadir columna 'hora_descarga' con la hora actual\n",
    "    emt_data['hora_descarga'] = datetime.now().strftime('%H:%M:%S')\n",
    "    \n",
    "    def filtrar_informacion(row):\n",
    "        enlace = row['Proximas_llegadas']\n",
    "        response = requests.get(enlace)\n",
    "        soup = BeautifulSoup(response.content, 'html.parser')\n",
    "        informacion = [node.text for node in soup.find_all('div')]\n",
    "        informacion_filtrada = [info for info in informacion if 'Próximo' in info or 'min.' in info]\n",
    "        informacion_filtrada = [info for info in informacion_filtrada if 'Gestiona tu tiempo' not in info]\n",
    "        informacion_filtrada = [info for info in informacion_filtrada if not info.split()[0].isdigit()]\n",
    "        informacion_filtrada = ' '.join(informacion_filtrada).replace('\\n', ' ')\n",
    "        return informacion_filtrada\n",
    "\n",
    "    emt_data['Proximas_llegadas'] = emt_data.apply(filtrar_informacion, axis=1)\n",
    "\n",
    "    emt_data.to_csv('datos/emt_data_actual.csv', index=False)\n",
    "    print(\"Archivo CSV guardado exitosamente\")\n",
    "    return emt_data\n",
    "\n",
    "def job():\n",
    "    datos_emt = descargar_datos_emt()\n",
    "    # Realizar alguna operación con los datos descargados\n",
    "\n",
    "schedule.every(3).minutes.do(job)\n",
    "\n",
    "while True:\n",
    "    schedule.run_pending()\n",
    "    time.sleep(1)"
   ]
  },
  {
   "cell_type": "code",
   "execution_count": null,
   "metadata": {},
   "outputs": [],
   "source": []
  }
 ],
 "metadata": {
  "kernelspec": {
   "display_name": "Python 3 (ipykernel)",
   "language": "python",
   "name": "python3"
  },
  "language_info": {
   "codemirror_mode": {
    "name": "ipython",
    "version": 3
   },
   "file_extension": ".py",
   "mimetype": "text/x-python",
   "name": "python",
   "nbconvert_exporter": "python",
   "pygments_lexer": "ipython3",
   "version": "3.9.16"
  },
  "toc": {
   "base_numbering": 1,
   "nav_menu": {},
   "number_sections": true,
   "sideBar": true,
   "skip_h1_title": false,
   "title_cell": "Table of Contents",
   "title_sidebar": "Contents",
   "toc_cell": false,
   "toc_position": {},
   "toc_section_display": true,
   "toc_window_display": false
  },
  "varInspector": {
   "cols": {
    "lenName": 16,
    "lenType": 16,
    "lenVar": 40
   },
   "kernels_config": {
    "python": {
     "delete_cmd_postfix": "",
     "delete_cmd_prefix": "del ",
     "library": "var_list.py",
     "varRefreshCmd": "print(var_dic_list())"
    },
    "r": {
     "delete_cmd_postfix": ") ",
     "delete_cmd_prefix": "rm(",
     "library": "var_list.r",
     "varRefreshCmd": "cat(var_dic_list()) "
    }
   },
   "types_to_exclude": [
    "module",
    "function",
    "builtin_function_or_method",
    "instance",
    "_Feature"
   ],
   "window_display": false
  }
 },
 "nbformat": 4,
 "nbformat_minor": 4
}
